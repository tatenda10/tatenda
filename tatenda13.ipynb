{
 "cells": [
  {
   "cell_type": "code",
   "execution_count": 49,
   "id": "17efb01d",
   "metadata": {},
   "outputs": [
    {
     "name": "stdout",
     "output_type": "stream",
     "text": [
      "ERROR! Session/line number was not unique in database. History logging moved to new session 6\n"
     ]
    }
   ],
   "source": [
    "import pandas as pd\n",
    "import numpy as np\n",
    "%matplotlib inline\n",
    "import matplotlib as mpl\n",
    "import matplotlib.pyplot as plt\n",
    "from matplotlib import style\n",
    "sns.set(style='ticks', color_codes=True)\n",
    "sns.set(style='darkgrid')"
   ]
  },
  {
   "cell_type": "code",
   "execution_count": null,
   "id": "f1fc339d",
   "metadata": {},
   "outputs": [],
   "source": []
  },
  {
   "cell_type": "code",
   "execution_count": 50,
   "id": "199608e1",
   "metadata": {},
   "outputs": [
    {
     "name": "stdout",
     "output_type": "stream",
     "text": [
      "       sofifa_id                                         player_url  \\\n",
      "0         158023  https://sofifa.com/player/158023/lionel-messi/...   \n",
      "1          20801  https://sofifa.com/player/20801/c-ronaldo-dos-...   \n",
      "2         190871  https://sofifa.com/player/190871/neymar-da-sil...   \n",
      "3         200389  https://sofifa.com/player/200389/jan-oblak/20/...   \n",
      "4         183277  https://sofifa.com/player/183277/eden-hazard/2...   \n",
      "...          ...                                                ...   \n",
      "18273     245006  https://sofifa.com/player/245006/shuai-shao/20...   \n",
      "18274     250995  https://sofifa.com/player/250995/mingjie-xiao/...   \n",
      "18275     252332  https://sofifa.com/player/252332/wei-zhang/20/...   \n",
      "18276     251110  https://sofifa.com/player/251110/haijian-wang/...   \n",
      "18277     233449  https://sofifa.com/player/233449/ximing-pan/20...   \n",
      "\n",
      "              short_name                            long_name  age  \\\n",
      "0               L. Messi       Lionel Andrés Messi Cuccittini   32   \n",
      "1      Cristiano Ronaldo  Cristiano Ronaldo dos Santos Aveiro   34   \n",
      "2              Neymar Jr        Neymar da Silva Santos Junior   27   \n",
      "3               J. Oblak                            Jan Oblak   26   \n",
      "4              E. Hazard                          Eden Hazard   28   \n",
      "...                  ...                                  ...  ...   \n",
      "18273         Shao Shuai                                   邵帅   22   \n",
      "18274       Xiao Mingjie                         Mingjie Xiao   22   \n",
      "18275          Zhang Wei                                   张威   19   \n",
      "18276       Wang Haijian                                  汪海健   18   \n",
      "18277         Pan Ximing                                  潘喜明   26   \n",
      "\n",
      "              dob  height_cm  weight_kg nationality  \\\n",
      "0      1987-06-24        170         72   Argentina   \n",
      "1      1985-02-05        187         83    Portugal   \n",
      "2      1992-02-05        175         68      Brazil   \n",
      "3      1993-01-07        188         87    Slovenia   \n",
      "4      1991-01-07        175         74     Belgium   \n",
      "...           ...        ...        ...         ...   \n",
      "18273  1997-03-10        186         79    China PR   \n",
      "18274  1997-01-01        177         66    China PR   \n",
      "18275  2000-05-16        186         75    China PR   \n",
      "18276  2000-08-02        185         74    China PR   \n",
      "18277  1993-01-11        182         78    China PR   \n",
      "\n",
      "                                club  ...   lwb   ldm   cdm   rdm   rwb    lb  \\\n",
      "0                       FC Barcelona  ...  68+2  66+2  66+2  66+2  68+2  63+2   \n",
      "1                           Juventus  ...  65+3  61+3  61+3  61+3  65+3  61+3   \n",
      "2                Paris Saint-Germain  ...  66+3  61+3  61+3  61+3  66+3  61+3   \n",
      "3                    Atlético Madrid  ...   NaN   NaN   NaN   NaN   NaN   NaN   \n",
      "4                        Real Madrid  ...  66+3  63+3  63+3  63+3  66+3  61+3   \n",
      "...                              ...  ...   ...   ...   ...   ...   ...   ...   \n",
      "18273               Beijing Renhe FC  ...  43+2  42+2  42+2  42+2  43+2  45+2   \n",
      "18274               Shanghai SIPG FC  ...  44+2  43+2  43+2  43+2  44+2  46+2   \n",
      "18275         Hebei China Fortune FC  ...  47+2  49+2  49+2  49+2  47+2  47+2   \n",
      "18276  Shanghai Greenland Shenhua FC  ...  48+2  48+2  48+2  48+2  48+2  48+2   \n",
      "18277         Hebei China Fortune FC  ...  48+2  49+2  49+2  49+2  48+2  48+2   \n",
      "\n",
      "        lcb    cb   rcb    rb  \n",
      "0      52+2  52+2  52+2  63+2  \n",
      "1      53+3  53+3  53+3  61+3  \n",
      "2      46+3  46+3  46+3  61+3  \n",
      "3       NaN   NaN   NaN   NaN  \n",
      "4      49+3  49+3  49+3  61+3  \n",
      "...     ...   ...   ...   ...  \n",
      "18273  46+2  46+2  46+2  45+2  \n",
      "18274  47+2  47+2  47+2  46+2  \n",
      "18275  49+2  49+2  49+2  47+2  \n",
      "18276  49+2  49+2  49+2  48+2  \n",
      "18277  50+2  50+2  50+2  48+2  \n",
      "\n",
      "[18278 rows x 104 columns]\n"
     ]
    }
   ],
   "source": [
    "player =pd.read_csv(\"C:/Users/private/Desktop/Avatar The Last Air Bender/players_20.csv\")\n",
    "player_data = pd.DataFrame(player)\n",
    "print(player_data)"
   ]
  },
  {
   "cell_type": "code",
   "execution_count": null,
   "id": "fabb1aa9",
   "metadata": {},
   "outputs": [],
   "source": [
    "print(player_data.shape)"
   ]
  },
  {
   "cell_type": "code",
   "execution_count": null,
   "id": "5ee5dd24",
   "metadata": {},
   "outputs": [],
   "source": [
    "columns = ['overall','attacking_crossing', 'attacking_finishing', 'attacking_heading_accuracy', 'attacking_short_passing', 'attacking_volleys', 'skill_dribbling', 'skill_curve', 'skill_fk_accuracy', 'skill_long_passing', 'skill_ball_control', 'movement_acceleration', 'movement_sprint_speed', 'movement_agility', 'movement_reactions', 'movement_balance', 'power_shot_power', 'power_jumping', 'power_stamina', 'power_strength', 'power_long_shots', 'mentality_aggression', 'mentality_interceptions', 'mentality_positioning', 'mentality_vision', 'mentality_penalties', 'mentality_composure', 'defending_marking', 'defending_standing_tackle', 'defending_sliding_tackle', 'goalkeeping_diving', 'goalkeeping_handling', 'goalkeeping_kicking', 'goalkeeping_positioning', 'goalkeeping_reflexes']\n",
    "player_df = player_data[columns]\n",
    "print(player_df.head())"
   ]
  },
  {
   "cell_type": "code",
   "execution_count": null,
   "id": "69370b74",
   "metadata": {},
   "outputs": [],
   "source": [
    "print(player_df.info())"
   ]
  },
  {
   "cell_type": "code",
   "execution_count": null,
   "id": "489605d6",
   "metadata": {
    "scrolled": true
   },
   "outputs": [],
   "source": [
    "print(player_df.describe())"
   ]
  },
  {
   "cell_type": "code",
   "execution_count": null,
   "id": "e96413b7",
   "metadata": {},
   "outputs": [],
   "source": [
    "print(player_df.isna().any())"
   ]
  },
  {
   "cell_type": "code",
   "execution_count": null,
   "id": "8cdd0740",
   "metadata": {},
   "outputs": [],
   "source": [
    "player_df.hist(bins=40 , figsize=(27,17))\n",
    "plt.show()"
   ]
  },
  {
   "cell_type": "code",
   "execution_count": null,
   "id": "42bafa6f",
   "metadata": {},
   "outputs": [],
   "source": [
    "#showing correlations\n",
    "\n",
    "\n",
    "from pandas.plotting import scatter_matrix\n",
    "attributes = [\"overall\", \"movement_reactions\", \"mentality_composure\", \"power_shot_power\", \"mentality_vision\"]\n",
    "scatter_matrix(fifa_df[attributes], figsize=(15,12))\n",
    "plt.show()"
   ]
  },
  {
   "cell_type": "code",
   "execution_count": null,
   "id": "42867196",
   "metadata": {},
   "outputs": [],
   "source": [
    "#showing stronger correlations of movement_reaactions\n",
    "fifa_df.plot(kind=\"scatter\", x=\"movement_reactions\", y=\"overall\", alpha=0.1, color=\"red\")\n",
    "plt.show()"
   ]
  },
  {
   "cell_type": "code",
   "execution_count": null,
   "id": "d6e36dde",
   "metadata": {},
   "outputs": [],
   "source": [
    "#looking for correlations\n",
    "fifa_df = train_set.copy()\n",
    "corr_matrix = fifa_df.corr()\n",
    "corr_matrix['overall'].sort_values(ascending=False)"
   ]
  },
  {
   "cell_type": "code",
   "execution_count": null,
   "id": "56fd0285",
   "metadata": {},
   "outputs": [],
   "source": [
    "from sklearn.model_selection import train_test_split\n",
    "\n",
    "train_set, test_set = train_test_split(player_df, test_size=0.2, random_state=42)\n",
    "print(\"Length of training data:\", len(train_set))\n",
    "print(\"Length of testing data:\", len(test_set))\n",
    "print(\"Length of total data:\", len(player_df)"
   ]
  },
  {
   "cell_type": "code",
   "execution_count": null,
   "id": "cb575d26",
   "metadata": {},
   "outputs": [],
   "source": [
    "y_train = train_set['overall']\n",
    "X_train = train_set.drop('overall', axis=1)\n",
    "y_test = test_set['overall']\n",
    "X_test = test_set.drop('overall', axis=1)"
   ]
  },
  {
   "cell_type": "code",
   "execution_count": null,
   "id": "d5bfffe0",
   "metadata": {},
   "outputs": [],
   "source": [
    "#deploying random forest\n",
    "from sklearn.ensemble import RandomForestRegressor\n",
    "forest_reg = RandomForestRegressor()\n",
    "forest_reg.fit(X_train, y_train)"
   ]
  },
  {
   "cell_type": "code",
   "execution_count": null,
   "id": "3251cca6",
   "metadata": {},
   "outputs": [],
   "source": [
    "#calculating root mean square\n",
    "y_predictions = forest_reg.predict(X_train)\n",
    "forest_mse = mean_squared_error(y_train, y_predictions)\n",
    "forest_rmse = np.sqrt(forest_mse)\n",
    "forest_rmse"
   ]
  },
  {
   "cell_type": "code",
   "execution_count": 51,
   "id": "af698a94",
   "metadata": {},
   "outputs": [
    {
     "name": "stdout",
     "output_type": "stream",
     "text": [
      "Scores: [1.28093003 1.24420192 1.26177429 1.28513736 1.22841628 1.30965511\n",
      " 1.27100195 1.25567116 1.299433   1.29704431]\n",
      "Mean: 1.273326541948427\n",
      "Standard Deviation: 0.02465136761036362\n"
     ]
    }
   ],
   "source": [
    "from sklearn.model_selection import cross_val_score\n",
    "scores = cross_val_score(forest_reg, X_train, y_train,\n",
    "scoring='neg_mean_squared_error', cv=10)\n",
    "forest_scores = np.sqrt(-scores)\n",
    "def display_scores(scores):\n",
    "  print(\"Scores:\", scores)\n",
    "  print(\"Mean:\", scores.mean())\n",
    "  print(\"Standard Deviation:\", scores.std())\n",
    "display_scores(forest_scores)"
   ]
  },
  {
   "cell_type": "code",
   "execution_count": 52,
   "id": "b7bca2e7",
   "metadata": {},
   "outputs": [
    {
     "data": {
      "text/plain": [
       "GridSearchCV(cv=5, estimator=RandomForestRegressor(),\n",
       "             param_grid=[{'max_features': [2, 4, 6, 8],\n",
       "                          'n_estimators': [3, 10, 30]},\n",
       "                         {'bootstrap': [False], 'max_features': [2, 3, 4],\n",
       "                          'n_estimators': [3, 10]}],\n",
       "             return_train_score=True, scoring='neg_mean_squared_error')"
      ]
     },
     "execution_count": 52,
     "metadata": {},
     "output_type": "execute_result"
    }
   ],
   "source": [
    "from sklearn.model_selection import GridSearchCV\n",
    "param_grid = [\n",
    "{'n_estimators': [3, 10, 30], 'max_features': [2, 4, 6, 8]},\n",
    "{'bootstrap': [False], 'n_estimators': [3,10], 'max_features': [2,3,4]},\n",
    "]\n",
    "forest_reg = RandomForestRegressor()\n",
    "grid_search = GridSearchCV(forest_reg, param_grid, cv=5,\n",
    "scoring='neg_mean_squared_error',\n",
    "return_train_score=True)\n",
    "grid_search.fit(X_train, y_train)"
   ]
  },
  {
   "cell_type": "code",
   "execution_count": 53,
   "id": "0fcb4ac4",
   "metadata": {},
   "outputs": [
    {
     "data": {
      "text/plain": [
       "{'max_features': 8, 'n_estimators': 30}"
      ]
     },
     "execution_count": 53,
     "metadata": {},
     "output_type": "execute_result"
    }
   ],
   "source": [
    "grid_search.best_params_\n",
    "{'max_features': 8, 'n_estimators': 30}"
   ]
  },
  {
   "cell_type": "code",
   "execution_count": 54,
   "id": "71d9c0cd",
   "metadata": {},
   "outputs": [
    {
     "data": {
      "text/plain": [
       "1.1323788188800123"
      ]
     },
     "execution_count": 54,
     "metadata": {},
     "output_type": "execute_result"
    }
   ],
   "source": [
    "#evaluating  model on test set\n",
    "\n",
    "final_model = grid_search.best_estimator_\n",
    "final_predictions = final_model.predict(X_test)\n",
    "final_mse = mean_squared_error(y_test, final_predictions)\n",
    "final_rmse = np.sqrt(final_mse)\n",
    "final_rmse"
   ]
  },
  {
   "cell_type": "code",
   "execution_count": 57,
   "id": "da55925f",
   "metadata": {},
   "outputs": [
    {
     "name": "stdout",
     "output_type": "stream",
     "text": [
      "Predictions: [64.         73.26666667 68.93333333 67.93333333 64.26666667]\n",
      "Labels: [64, 74, 69, 68, 63]\n"
     ]
    }
   ],
   "source": [
    "some_data = X_test.iloc[:5]\n",
    "some_label = y_test.iloc[:5]\n",
    "print(\"Predictions:\", final_model.predict(some_data))\n",
    "print(\"Labels:\", list(some_label))"
   ]
  },
  {
   "cell_type": "code",
   "execution_count": 64,
   "id": "19740a84",
   "metadata": {},
   "outputs": [
    {
     "name": "stdout",
     "output_type": "stream",
     "text": [
      "[91.7        90.06666667 89.6        86.86666667 88.7        84.6\n",
      " 87.         86.76666667 89.26666667 85.16666667]\n",
      "[94, 94, 92, 91, 91, 91, 91, 91, 91, 90]\n"
     ]
    }
   ],
   "source": [
    "#testing data on another data set\n",
    "diff_dataset = pd.read_csv(\"C:/Users/private/Desktop/Avatar The Last Air Bender/players_19.csv\")\n",
    "columns =['attacking_crossing', 'attacking_finishing', 'attacking_heading_accuracy', 'attacking_short_passing', 'attacking_volleys', 'skill_dribbling', 'skill_curve', 'skill_fk_accuracy', 'skill_long_passing', 'skill_ball_control', 'movement_acceleration', 'movement_sprint_speed', 'movement_agility', 'movement_reactions', 'movement_balance', 'power_shot_power', 'power_jumping', 'power_stamina', 'power_strength', 'power_long_shots', 'mentality_aggression', 'mentality_interceptions', 'mentality_positioning', 'mentality_vision', 'mentality_penalties', 'mentality_composure', 'defending_marking', 'defending_standing_tackle', 'defending_sliding_tackle', 'goalkeeping_diving', 'goalkeeping_handling', 'goalkeeping_kicking', 'goalkeeping_positioning', 'goalkeeping_reflexes']\n",
    "some_data = diff_dataset[columns]\n",
    "some_data2= some_data.iloc[0:10]\n",
    "print(final_model.predict(some_data2))\n",
    "print(list(diff_dataset['overall'].iloc[0:10]))\n"
   ]
  },
  {
   "cell_type": "code",
   "execution_count": null,
   "id": "0bad8003",
   "metadata": {},
   "outputs": [],
   "source": []
  },
  {
   "cell_type": "code",
   "execution_count": null,
   "id": "51732f11",
   "metadata": {},
   "outputs": [],
   "source": []
  }
 ],
 "metadata": {
  "kernelspec": {
   "display_name": "Python 3",
   "language": "python",
   "name": "python3"
  },
  "language_info": {
   "codemirror_mode": {
    "name": "ipython",
    "version": 3
   },
   "file_extension": ".py",
   "mimetype": "text/x-python",
   "name": "python",
   "nbconvert_exporter": "python",
   "pygments_lexer": "ipython3",
   "version": "3.8.8"
  }
 },
 "nbformat": 4,
 "nbformat_minor": 5
}
